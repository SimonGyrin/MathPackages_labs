{
 "cells": [
  {
   "cell_type": "markdown",
   "metadata": {},
   "source": [
    "# Математические пакеты\n",
    "## Лабораторная работа 3 Символьные вычисления\n",
    "Выполнил студент гр. 9381 Гурин Семен Вариант 4\n",
    "### Цель работы\n",
    "практическое применение библиотеки символьных вычислений Python (SymPy) для решения задач дискретной математики и математической логики.\n",
    "### Задачи лабораторной работы\n",
    "    1 Решить свой вариант диофантова уравнения.\n",
    "    2 Имея открытую часть ключа RSA найти соответствующую закрытую часть и расшифровать кодированное слово.\n",
    "    3 Записать в формате ДНФ и КНФ булеву функцию, заданную своим аналитическим выражением.\n",
    "### Выполнение работы\n",
    "#### Диофантово уравнение\n",
    "Решить диофантово уравнение $2392x + 2369y = -46$"
   ]
  },
  {
   "cell_type": "code",
   "execution_count": 10,
   "metadata": {},
   "outputs": [],
   "source": [
    "from sympy import sympify\n",
    "from sympy.solvers.diophantine import diophantine\n",
    "\n",
    "from sympy.crypto.crypto import rsa_private_key, decipher_rsa"
   ]
  },
  {
   "cell_type": "code",
   "execution_count": 11,
   "metadata": {},
   "outputs": [
    {
     "name": "stdout",
     "output_type": "stream",
     "text": [
      "{(103*t_0 - 2, 2 - 104*t_0)}\n"
     ]
    }
   ],
   "source": [
    "print(diophantine(sympify('2392 * x + 2369 * y + 46')))"
   ]
  },
  {
   "cell_type": "markdown",
   "metadata": {},
   "source": [
    "#### RSA кодирование\n",
    "Русское слово из четырех букв закодировано при помощи алгоритма RSA открытым ключом (e = 3,m = 34).\n",
    "Шифрованное сообщение имеет вид (10; 11; 6; 13). Подберите закрытую часть ключа и прочитайте исходное слово.\n",
    "Буквам русского алфавита соответсвуют числа в диапазоне от 2 до 32 (исключены буквы “ё” и “ъ”)."
   ]
  },
  {
   "cell_type": "code",
   "execution_count": 12,
   "metadata": {},
   "outputs": [
    {
     "name": "stdout",
     "output_type": "stream",
     "text": [
      "тьфу\n"
     ]
    }
   ],
   "source": [
    "key = rsa_private_key(34, 3)\n",
    "code = [10, 11, 6, 13]\n",
    "pool = ['а', 'б', 'в', 'г', 'д', 'е', 'ж', 'з', 'и', 'й', 'к', 'л', 'м', 'н', 'о', 'п', 'р', 'с', 'т', 'у', 'ф', 'х', 'ц', 'ч', 'ш', 'щ', 'ы', 'ь', 'э', 'ю', 'я']\n",
    "\n",
    "message = ''\n",
    "for index in code:\n",
    "    message += pool[decipher_rsa(index, key) - 2]\n",
    "    \n",
    "print(message)"
   ]
  },
  {
   "cell_type": "markdown",
   "metadata": {},
   "source": [
    "#### Преобразование булевой функции\n",
    "$ f(x, y, z) = ((yz)\\ xor\\ z)\\ xor ((xy)\\ ∨\\ (y\\ ∨\\ x))$\n",
    "\n",
    "Преобразовать в ДНФ и КНФ"
   ]
  },
  {
   "cell_type": "code",
   "execution_count": 13,
   "metadata": {},
   "outputs": [
    {
     "name": "stdout",
     "output_type": "stream",
     "text": [
      "ДНФ:  y | (x & ~z) | (z & ~x)\n",
      "КНФ:  (x | y | z) & (y | ~x | ~z)\n"
     ]
    }
   ],
   "source": [
    "from sympy.abc import x, y, z\n",
    "from sympy.logic.boolalg import to_cnf\n",
    "from sympy.logic.boolalg import to_dnf\n",
    "\n",
    "f = (((y&z)^z)^((x&y)|(y|x)))\n",
    "print('ДНФ: ', to_dnf(f, True))\n",
    "print('КНФ: ', to_cnf(f, True))"
   ]
  },
  {
   "cell_type": "markdown",
   "metadata": {},
   "source": [
    "### Вывод\n",
    "В лабораторной работе была изучена библитоека sympy, решено диофантово уравнение, решена задача RSA декодирование и преобразована булева функция."
   ]
  }
 ],
 "metadata": {
  "kernelspec": {
   "display_name": "Python 3",
   "language": "python",
   "name": "python3"
  },
  "language_info": {
   "codemirror_mode": {
    "name": "ipython",
    "version": 3
   },
   "file_extension": ".py",
   "mimetype": "text/x-python",
   "name": "python",
   "nbconvert_exporter": "python",
   "pygments_lexer": "ipython3",
   "version": "3.7.7"
  }
 },
 "nbformat": 4,
 "nbformat_minor": 4
}
