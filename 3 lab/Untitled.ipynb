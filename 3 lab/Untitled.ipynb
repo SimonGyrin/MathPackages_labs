{
 "cells": [
  {
   "cell_type": "markdown",
   "metadata": {},
   "source": [
    "# Математические пакеты\n",
    "## Лабораторная работа 3 Символьные вычисления\n",
    "Выполнил студент гр. 9381 Гурин Семен Вариант 3\n",
    "### Цель работы\n",
    "практическое применение библиотеки символьных вычислений Python (SymPy) для решения задач дискретной математики и математической логики.\n",
    "### Задачи лабораторной работы\n",
    "    1 Решить свой вариант диофантова уравнения.\n",
    "    2 Имея открытую часть ключа RSA найти соответствующую закрытую часть и расшифровать кодированное слово.\n",
    "    3 Записать в формате ДНФ и КНФ булеву функцию, заданную своим аналитическим выражением.\n",
    "### Выполнение работы\n",
    "#### Диофантово уравнение\n",
    "Решить диофантово уравнение $3825x + 4267y = 68$"
   ]
  },
  {
   "cell_type": "code",
   "execution_count": 18,
   "metadata": {},
   "outputs": [],
   "source": [
    "from sympy import sympify\n",
    "from sympy.solvers.diophantine import diophantine\n",
    "\n",
    "from sympy.crypto.crypto import rsa_private_key, decipher_rsa"
   ]
  },
  {
   "cell_type": "code",
   "execution_count": 19,
   "metadata": {},
   "outputs": [
    {
     "name": "stdout",
     "output_type": "stream",
     "text": [
      "{(251*t_0 - 116, 104 - 225*t_0)}\n"
     ]
    }
   ],
   "source": [
    "print(diophantine(sympify('3825 * x + 4267 * y - 68')))"
   ]
  },
  {
   "cell_type": "markdown",
   "metadata": {},
   "source": [
    "#### RSA кодирование\n",
    "Русское слово из четырех букв закодировано при помощи алгоритма RSA открытым ключом (e = 5,m = 39).\n",
    "Шифрованное сообщение имеет вид (18; 22; 13; 35). Подберите закрытую часть ключа и прочитайте исходное слово.\n",
    "Буквам русского алфавита соответсвуют числа в диапазоне от 2 до 32 (исключены буквы “ё” и “ъ”)."
   ]
  },
  {
   "cell_type": "code",
   "execution_count": 20,
   "metadata": {},
   "outputs": [
    {
     "name": "stdout",
     "output_type": "stream",
     "text": [
      "роль\n"
     ]
    }
   ],
   "source": [
    "key = rsa_private_key(39, 5)\n",
    "code = [18, 22, 13, 35]\n",
    "pool = ['а', 'б', 'в', 'г', 'д', 'е', 'ж', 'з', 'и', 'й', 'к', 'л', 'м', 'н', 'о', 'п', 'р', 'с', 'т', 'у', 'ф', 'х', 'ц', 'ч', 'ш', 'щ', 'ы', 'ь', 'э', 'ю', 'я']\n",
    "\n",
    "message = ''\n",
    "for index in code:\n",
    "    message += pool[decipher_rsa(index, key) - 2]\n",
    "    \n",
    "print(message)"
   ]
  },
  {
   "cell_type": "markdown",
   "metadata": {},
   "source": [
    "#### Преобразование булевой функции\n",
    "$ f(x, y, z) = ((xy)∨(y\\ xor\\ x))\\ xor\\ ((zx)∨z)$\n",
    "\n",
    "Преобразовать в ДНФ и КНФ"
   ]
  },
  {
   "cell_type": "code",
   "execution_count": 21,
   "metadata": {},
   "outputs": [
    {
     "name": "stdout",
     "output_type": "stream",
     "text": [
      "ДНФ:  (x & ~z) | (y & ~z) | (z & ~x & ~y)\n",
      "КНФ:  (x | y | z) & (~x | ~z) & (~y | ~z)\n"
     ]
    }
   ],
   "source": [
    "from sympy.abc import x, y, z\n",
    "from sympy.logic.boolalg import to_cnf\n",
    "from sympy.logic.boolalg import to_dnf\n",
    "\n",
    "f = (((x&y)|(y^x))^((z&x)|z))\n",
    "print('ДНФ: ', to_dnf(f, True))\n",
    "print('КНФ: ', to_cnf(f, True))"
   ]
  },
  {
   "cell_type": "markdown",
   "metadata": {},
   "source": [
    "### Вывод\n",
    "В лабораторной работе была изучена библитоека sympy, решено диофантово уравнение, решена задача RSA декодирование и преобразована булева функция."
   ]
  }
 ],
 "metadata": {
  "kernelspec": {
   "display_name": "Python 3",
   "language": "python",
   "name": "python3"
  },
  "language_info": {
   "codemirror_mode": {
    "name": "ipython",
    "version": 3
   },
   "file_extension": ".py",
   "mimetype": "text/x-python",
   "name": "python",
   "nbconvert_exporter": "python",
   "pygments_lexer": "ipython3",
   "version": "3.7.7"
  }
 },
 "nbformat": 4,
 "nbformat_minor": 4
}
